{
 "cells": [
  {
   "cell_type": "code",
   "execution_count": 10,
   "outputs": [],
   "source": [
    "import time\n",
    "import numpy as np\n",
    "import torch\n",
    "from models.CNNs import CNNs1D\n",
    "from models.CNNRNNs import CNNRNNs\n",
    "from models.CNNTransformer import CNNTransformer\n",
    "from utils.common_params import *\n",
    "\n",
    "input_size = (1, C, window)\n",
    "batch_size = 1\n",
    "input_data = torch.randn(batch_size, *input_size).to(device)"
   ],
   "metadata": {
    "collapsed": false,
    "ExecuteTime": {
     "end_time": "2025-02-16T12:36:08.972140700Z",
     "start_time": "2025-02-16T12:36:08.967538700Z"
    }
   }
  },
  {
   "cell_type": "code",
   "execution_count": 9,
   "outputs": [
    {
     "name": "stdout",
     "output_type": "stream",
     "text": [
      "0.0023540259999999336\n"
     ]
    }
   ],
   "source": [
    "# CNNs\n",
    "model = CNNs1D()\n",
    "model.to(device)\n",
    "model.eval()\n",
    "costs = []\n",
    "for k in range(100):\n",
    "    start = time.perf_counter()\n",
    "    output = model(input_data)\n",
    "    end = time.perf_counter()\n",
    "    costs.append(end-start)\n",
    "# print(costs)\n",
    "print(np.mean(np.array(costs)))"
   ],
   "metadata": {
    "collapsed": false,
    "pycharm": {
     "name": "#%%\n"
    },
    "ExecuteTime": {
     "end_time": "2025-02-16T12:35:40.322201100Z",
     "start_time": "2025-02-16T12:35:40.065831700Z"
    }
   }
  },
  {
   "cell_type": "code",
   "execution_count": 21,
   "outputs": [
    {
     "name": "stdout",
     "output_type": "stream",
     "text": [
      "0.0018567549999998789\n"
     ]
    }
   ],
   "source": [
    "# CNNRNNs\n",
    "rnn_type = 'LSTM' # ['LSTM', 'GRU', 'BiLSTM', 'BiGRU']\n",
    "model = CNNRNNs(rnn_type=rnn_type)\n",
    "model.to(device)\n",
    "model.eval()\n",
    "costs = []\n",
    "for k in range(100):\n",
    "    start = time.perf_counter()\n",
    "    output = model(input_data)\n",
    "    end = time.perf_counter()\n",
    "    costs.append(end-start)\n",
    "# print(costs)\n",
    "print(np.mean(np.array(costs)))"
   ],
   "metadata": {
    "collapsed": false,
    "ExecuteTime": {
     "end_time": "2025-02-16T12:36:30.533988600Z",
     "start_time": "2025-02-16T12:36:30.324422900Z"
    }
   }
  },
  {
   "cell_type": "code",
   "execution_count": 25,
   "outputs": [
    {
     "name": "stdout",
     "output_type": "stream",
     "text": [
      "0.005576498999999728\n"
     ]
    }
   ],
   "source": [
    "# CNNTransformer\n",
    "model = CNNTransformer()\n",
    "model.to(device)\n",
    "model.eval()\n",
    "costs = []\n",
    "for k in range(100):\n",
    "    start = time.perf_counter()\n",
    "    output = model(input_data)\n",
    "    end = time.perf_counter()\n",
    "    costs.append(end-start)\n",
    "# print(costs)\n",
    "print(np.mean(np.array(costs)))"
   ],
   "metadata": {
    "collapsed": false,
    "ExecuteTime": {
     "end_time": "2025-02-16T12:36:53.690446600Z",
     "start_time": "2025-02-16T12:36:53.103165300Z"
    }
   }
  },
  {
   "cell_type": "code",
   "execution_count": null,
   "outputs": [],
   "source": [],
   "metadata": {
    "collapsed": false
   }
  }
 ],
 "metadata": {
  "kernelspec": {
   "name": "pytorch",
   "language": "python",
   "display_name": "pytorch"
  },
  "language_info": {
   "codemirror_mode": {
    "name": "ipython",
    "version": 2
   },
   "file_extension": ".py",
   "mimetype": "text/x-python",
   "name": "python",
   "nbconvert_exporter": "python",
   "pygments_lexer": "ipython2",
   "version": "2.7.6"
  }
 },
 "nbformat": 4,
 "nbformat_minor": 0
}
