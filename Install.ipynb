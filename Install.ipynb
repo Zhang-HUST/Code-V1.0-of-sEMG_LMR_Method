{
 "cells": [
  {
   "cell_type": "markdown",
   "source": [
    "### 1. Creating the environment"
   ],
   "metadata": {
    "collapsed": false
   }
  },
  {
   "cell_type": "code",
   "execution_count": null,
   "outputs": [],
   "source": [
    "# conda create -n pytorch python=3.9.18"
   ],
   "metadata": {
    "collapsed": false
   }
  },
  {
   "cell_type": "markdown",
   "source": [
    "### 2. Install the pytorch kernel into the jupyter notebook"
   ],
   "metadata": {
    "collapsed": false
   }
  },
  {
   "cell_type": "code",
   "execution_count": null,
   "outputs": [],
   "source": [
    "# conda activate pytorch\n",
    "# pip install --user ipykernel\n",
    "# python -m ipykernel install --user --name=pytorch"
   ],
   "metadata": {
    "collapsed": false
   }
  },
  {
   "cell_type": "markdown",
   "source": [
    "### 3. Installing libraries"
   ],
   "metadata": {
    "collapsed": false
   }
  },
  {
   "cell_type": "code",
   "execution_count": null,
   "metadata": {
    "collapsed": true,
    "pycharm": {
     "name": "#%%\n"
    }
   },
   "outputs": [],
   "source": [
    "## 3.1. Pytorch\n",
    "# conda install pytorch==1.13.0 torchvision==0.14.0 torchaudio==0.13.0 pytorch-cuda=11.7 -c pytorch -c nvidia\n",
    "\n",
    "## 3.2. Model complexity, model visualization and other related libraries\n",
    "# pip install thop\n",
    "# pip install fvcore\n",
    "# pip install torchviz\n",
    "# pip install hiddenlayer\n",
    "# pip install torchsummary\n",
    "\n",
    "## 3.3. Table processing related libraries\n",
    "# pip install pandas\n",
    "# pip install xlrd\n",
    "# pip install xlsxwriter\n",
    "\n",
    "## 3.4. Signal Processing related libraries\n",
    "# pip install librosa\n",
    "# pip install resampy\n",
    "# pip install PyWavelets\n",
    "# pip install EMD-signal\n",
    "\n",
    "## 3.5. Drawing related libraries\n",
    "# pip install matplotlib seaborn"
   ]
  }
 ],
 "metadata": {
  "kernelspec": {
   "name": "pytorch",
   "language": "python",
   "display_name": "pytorch"
  },
  "language_info": {
   "codemirror_mode": {
    "name": "ipython",
    "version": 2
   },
   "file_extension": ".py",
   "mimetype": "text/x-python",
   "name": "python",
   "nbconvert_exporter": "python",
   "pygments_lexer": "ipython2",
   "version": "2.7.6"
  }
 },
 "nbformat": 4,
 "nbformat_minor": 0
}
